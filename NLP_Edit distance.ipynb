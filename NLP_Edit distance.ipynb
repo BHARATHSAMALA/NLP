{
 "cells": [
  {
   "cell_type": "code",
   "execution_count": 45,
   "metadata": {},
   "outputs": [],
   "source": [
    "import numpy as np"
   ]
  },
  {
   "cell_type": "code",
   "execution_count": 119,
   "metadata": {},
   "outputs": [],
   "source": [
    "def edit_distance(s1,s2):\n",
    "    \n",
    "    m = len(s1)\n",
    "    n = len(s2)\n",
    "    d = np.zeros((m+1,n+1))\n",
    "    for i in range(m+1):\n",
    "        d[i][0] = i\n",
    "    \n",
    "    for j in range(n+1):\n",
    "        d[0][j] = j\n",
    "    \n",
    "    for i in range(1,m+1):\n",
    "        for j in range(1,n+1):\n",
    "            if ( s1[i-1]!=s2[j-1]):\n",
    "                d[i][j]= min((d[i-1][j]+1), (d[i][j-1]+1), d[i-1][j-1] + 2 )\n",
    "            else:\n",
    "                d[i][j]= min((d[i-1][j]+1), (d[i][j-1]+1), d[i-1][j-1] + 0 )\n",
    "    \n",
    "    return d[n][m]\n"
   ]
  },
  {
   "cell_type": "code",
   "execution_count": 120,
   "metadata": {},
   "outputs": [],
   "source": [
    "s1 = 'intention'\n",
    "\n",
    "s2 = 'execution'"
   ]
  },
  {
   "cell_type": "code",
   "execution_count": 121,
   "metadata": {},
   "outputs": [
    {
     "name": "stdout",
     "output_type": "stream",
     "text": [
      "edit distance of intention and execution is 8.0\n"
     ]
    }
   ],
   "source": [
    "print(\"edit distance of\",s1,\"and\",s2,\"is\",edit_distance(s1,s2))"
   ]
  },
  {
   "cell_type": "code",
   "execution_count": null,
   "metadata": {},
   "outputs": [],
   "source": []
  }
 ],
 "metadata": {
  "kernelspec": {
   "display_name": "Python 3",
   "language": "python",
   "name": "python3"
  },
  "language_info": {
   "codemirror_mode": {
    "name": "ipython",
    "version": 3
   },
   "file_extension": ".py",
   "mimetype": "text/x-python",
   "name": "python",
   "nbconvert_exporter": "python",
   "pygments_lexer": "ipython3",
   "version": "3.7.4"
  }
 },
 "nbformat": 4,
 "nbformat_minor": 2
}
